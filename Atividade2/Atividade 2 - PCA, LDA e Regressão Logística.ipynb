{
 "cells": [
  {
   "cell_type": "code",
   "execution_count": 23,
   "id": "8a764c7f",
   "metadata": {},
   "outputs": [],
   "source": [
    "import pandas as pd\n",
    "import numpy as np\n",
    "import matplotlib.pyplot as plt\n",
    "import matplotlib\n",
    "\n",
    "from sklearn.linear_model import LogisticRegression"
   ]
  },
  {
   "cell_type": "code",
   "execution_count": 4,
   "id": "5b44747d",
   "metadata": {},
   "outputs": [],
   "source": [
    "df = pd.read_csv(\"OLYMP88_LDA.csv\", delimiter=\";\")"
   ]
  },
  {
   "cell_type": "code",
   "execution_count": 5,
   "id": "9d27ef46",
   "metadata": {},
   "outputs": [
    {
     "data": {
      "text/html": [
       "<div>\n",
       "<style scoped>\n",
       "    .dataframe tbody tr th:only-of-type {\n",
       "        vertical-align: middle;\n",
       "    }\n",
       "\n",
       "    .dataframe tbody tr th {\n",
       "        vertical-align: top;\n",
       "    }\n",
       "\n",
       "    .dataframe thead th {\n",
       "        text-align: right;\n",
       "    }\n",
       "</style>\n",
       "<table border=\"1\" class=\"dataframe\">\n",
       "  <thead>\n",
       "    <tr style=\"text-align: right;\">\n",
       "      <th></th>\n",
       "      <th>r100m</th>\n",
       "      <th>salto_dist</th>\n",
       "      <th>arrem_peso</th>\n",
       "      <th>salto_alt</th>\n",
       "      <th>r400m</th>\n",
       "      <th>h110m</th>\n",
       "      <th>arrem_disco</th>\n",
       "      <th>salto_vara</th>\n",
       "      <th>dardo</th>\n",
       "      <th>r1500m</th>\n",
       "      <th>pontos</th>\n",
       "      <th>classe</th>\n",
       "    </tr>\n",
       "  </thead>\n",
       "  <tbody>\n",
       "    <tr>\n",
       "      <th>0</th>\n",
       "      <td>11.25</td>\n",
       "      <td>7.43</td>\n",
       "      <td>15.48</td>\n",
       "      <td>2.27</td>\n",
       "      <td>48.90</td>\n",
       "      <td>15.13</td>\n",
       "      <td>49.28</td>\n",
       "      <td>4.7</td>\n",
       "      <td>61.32</td>\n",
       "      <td>268.95</td>\n",
       "      <td>8488</td>\n",
       "      <td>1</td>\n",
       "    </tr>\n",
       "    <tr>\n",
       "      <th>1</th>\n",
       "      <td>10.87</td>\n",
       "      <td>7.45</td>\n",
       "      <td>14.97</td>\n",
       "      <td>1.97</td>\n",
       "      <td>47.71</td>\n",
       "      <td>14.46</td>\n",
       "      <td>44.36</td>\n",
       "      <td>5.1</td>\n",
       "      <td>61.76</td>\n",
       "      <td>273.02</td>\n",
       "      <td>8399</td>\n",
       "      <td>1</td>\n",
       "    </tr>\n",
       "    <tr>\n",
       "      <th>2</th>\n",
       "      <td>11.18</td>\n",
       "      <td>7.44</td>\n",
       "      <td>14.20</td>\n",
       "      <td>1.97</td>\n",
       "      <td>48.29</td>\n",
       "      <td>14.81</td>\n",
       "      <td>43.66</td>\n",
       "      <td>5.2</td>\n",
       "      <td>64.16</td>\n",
       "      <td>263.20</td>\n",
       "      <td>8328</td>\n",
       "      <td>1</td>\n",
       "    </tr>\n",
       "    <tr>\n",
       "      <th>3</th>\n",
       "      <td>10.62</td>\n",
       "      <td>7.38</td>\n",
       "      <td>15.02</td>\n",
       "      <td>2.03</td>\n",
       "      <td>49.06</td>\n",
       "      <td>14.72</td>\n",
       "      <td>44.80</td>\n",
       "      <td>4.9</td>\n",
       "      <td>64.04</td>\n",
       "      <td>285.11</td>\n",
       "      <td>8306</td>\n",
       "      <td>1</td>\n",
       "    </tr>\n",
       "    <tr>\n",
       "      <th>4</th>\n",
       "      <td>11.02</td>\n",
       "      <td>7.43</td>\n",
       "      <td>12.92</td>\n",
       "      <td>1.97</td>\n",
       "      <td>47.44</td>\n",
       "      <td>14.40</td>\n",
       "      <td>41.20</td>\n",
       "      <td>5.2</td>\n",
       "      <td>57.46</td>\n",
       "      <td>256.64</td>\n",
       "      <td>8286</td>\n",
       "      <td>1</td>\n",
       "    </tr>\n",
       "  </tbody>\n",
       "</table>\n",
       "</div>"
      ],
      "text/plain": [
       "   r100m  salto_dist  arrem_peso  salto_alt  r400m  h110m  arrem_disco  \\\n",
       "0  11.25        7.43       15.48       2.27  48.90  15.13        49.28   \n",
       "1  10.87        7.45       14.97       1.97  47.71  14.46        44.36   \n",
       "2  11.18        7.44       14.20       1.97  48.29  14.81        43.66   \n",
       "3  10.62        7.38       15.02       2.03  49.06  14.72        44.80   \n",
       "4  11.02        7.43       12.92       1.97  47.44  14.40        41.20   \n",
       "\n",
       "   salto_vara  dardo  r1500m  pontos  classe  \n",
       "0         4.7  61.32  268.95    8488       1  \n",
       "1         5.1  61.76  273.02    8399       1  \n",
       "2         5.2  64.16  263.20    8328       1  \n",
       "3         4.9  64.04  285.11    8306       1  \n",
       "4         5.2  57.46  256.64    8286       1  "
      ]
     },
     "execution_count": 5,
     "metadata": {},
     "output_type": "execute_result"
    }
   ],
   "source": [
    "df.head()"
   ]
  },
  {
   "cell_type": "code",
   "execution_count": 7,
   "id": "394a89ed",
   "metadata": {},
   "outputs": [],
   "source": [
    "from sklearn.preprocessing import StandardScaler"
   ]
  },
  {
   "cell_type": "code",
   "execution_count": 12,
   "id": "d3774feb",
   "metadata": {},
   "outputs": [],
   "source": [
    "X = df.drop(columns=[\"classe\"]).values"
   ]
  },
  {
   "cell_type": "code",
   "execution_count": 13,
   "id": "a5fa018a",
   "metadata": {},
   "outputs": [],
   "source": [
    "y = df[\"classe\"].values"
   ]
  },
  {
   "cell_type": "code",
   "execution_count": 15,
   "id": "d3a1654a",
   "metadata": {},
   "outputs": [
    {
     "data": {
      "text/plain": [
       "array([[1.1250e+01, 7.4300e+00, 1.5480e+01, 2.2700e+00, 4.8900e+01,\n",
       "        1.5130e+01, 4.9280e+01, 4.7000e+00, 6.1320e+01, 2.6895e+02,\n",
       "        8.4880e+03],\n",
       "       [1.0870e+01, 7.4500e+00, 1.4970e+01, 1.9700e+00, 4.7710e+01,\n",
       "        1.4460e+01, 4.4360e+01, 5.1000e+00, 6.1760e+01, 2.7302e+02,\n",
       "        8.3990e+03],\n",
       "       [1.1180e+01, 7.4400e+00, 1.4200e+01, 1.9700e+00, 4.8290e+01,\n",
       "        1.4810e+01, 4.3660e+01, 5.2000e+00, 6.4160e+01, 2.6320e+02,\n",
       "        8.3280e+03],\n",
       "       [1.0620e+01, 7.3800e+00, 1.5020e+01, 2.0300e+00, 4.9060e+01,\n",
       "        1.4720e+01, 4.4800e+01, 4.9000e+00, 6.4040e+01, 2.8511e+02,\n",
       "        8.3060e+03],\n",
       "       [1.1020e+01, 7.4300e+00, 1.2920e+01, 1.9700e+00, 4.7440e+01,\n",
       "        1.4400e+01, 4.1200e+01, 5.2000e+00, 5.7460e+01, 2.5664e+02,\n",
       "        8.2860e+03]])"
      ]
     },
     "execution_count": 15,
     "metadata": {},
     "output_type": "execute_result"
    }
   ],
   "source": [
    "X[0:5]"
   ]
  },
  {
   "cell_type": "code",
   "execution_count": 16,
   "id": "d904932e",
   "metadata": {},
   "outputs": [
    {
     "data": {
      "text/plain": [
       "array([1, 1, 1, 1, 1])"
      ]
     },
     "execution_count": 16,
     "metadata": {},
     "output_type": "execute_result"
    }
   ],
   "source": [
    "y[0:5]"
   ]
  },
  {
   "cell_type": "code",
   "execution_count": 9,
   "id": "69cb3aa1",
   "metadata": {},
   "outputs": [],
   "source": [
    "sc = StandardScaler()"
   ]
  },
  {
   "cell_type": "code",
   "execution_count": 17,
   "id": "16c850fd",
   "metadata": {},
   "outputs": [],
   "source": [
    "X_std = sc.fit_transform(X)"
   ]
  },
  {
   "cell_type": "code",
   "execution_count": 19,
   "id": "371fbbbb",
   "metadata": {},
   "outputs": [],
   "source": [
    "from sklearn.decomposition import PCA\n",
    "\n",
    "pca = PCA(n_components=None)\n",
    "X_pca = pca.fit_transform(X_std)\n",
    "var_exp = pca.explained_variance_ratio_"
   ]
  },
  {
   "cell_type": "code",
   "execution_count": 26,
   "id": "1621fdd1",
   "metadata": {},
   "outputs": [
    {
     "data": {
      "image/png": "[encoded data removed]",
      "text/plain": [
       "<Figure size 432x288 with 1 Axes>"
      ]
     },
     "metadata": {
      "needs_background": "light"
     },
     "output_type": "display_data"
    }
   ],
   "source": [
    "PC_values = np.arange(pca.n_components_) + 1\n",
    "plt.plot(PC_values, pca.explained_variance_ratio_, 'ro-', linewidth=2)\n",
    "plt.title('Scree Plot')\n",
    "plt.xlabel('Principal Component')\n",
    "plt.ylabel('Proportion of Variance Explained')\n",
    "plt.show()"
   ]
  },
  {
   "cell_type": "code",
   "execution_count": 29,
   "id": "764b80b0",
   "metadata": {},
   "outputs": [],
   "source": [
    "from matplotlib.colors import ListedColormap\n",
    "\n",
    "def plot_decision_regions(X, y, classifier, resolution=0.02):\n",
    "\n",
    "    # setup marker generator and color map\n",
    "    markers = ('s', 'x', 'o', '^', 'v')\n",
    "    colors = ('red', 'blue', 'lightgreen', 'gray', 'cyan')\n",
    "    cmap = ListedColormap(colors[:len(np.unique(y))])\n",
    "\n",
    "    # plot the decision surface\n",
    "    x1_min, x1_max = X[:, 0].min() - 1, X[:, 0].max() + 1\n",
    "    x2_min, x2_max = X[:, 1].min() - 1, X[:, 1].max() + 1\n",
    "    xx1, xx2 = np.meshgrid(np.arange(x1_min, x1_max, resolution),\n",
    "                           np.arange(x2_min, x2_max, resolution))\n",
    "    Z = classifier.predict(np.array([xx1.ravel(), xx2.ravel()]).T)\n",
    "    Z = Z.reshape(xx1.shape)\n",
    "    plt.contourf(xx1, xx2, Z, alpha=0.4, cmap=cmap)\n",
    "    plt.xlim(xx1.min(), xx1.max())\n",
    "    plt.ylim(xx2.min(), xx2.max())\n",
    "\n",
    "    # plot class samples\n",
    "    for idx, cl in enumerate(np.unique(y)):\n",
    "        plt.scatter(x=X[y == cl, 0], \n",
    "                    y=X[y == cl, 1],\n",
    "                    alpha=0.6, \n",
    "                    c=cmap(idx),\n",
    "                    edgecolor='black',\n",
    "                    marker=markers[idx], \n",
    "                    label=cl)"
   ]
  },
  {
   "cell_type": "code",
   "execution_count": 31,
   "id": "064dfeb9",
   "metadata": {},
   "outputs": [
    {
     "name": "stderr",
     "output_type": "stream",
     "text": [
      "*c* argument looks like a single numeric RGB or RGBA sequence, which should be avoided as value-mapping will have precedence in case its length matches with *x* & *y*.  Please use the *color* keyword-argument or provide a 2D array with a single row if you intend to specify the same RGB or RGBA value for all points.\n",
      "*c* argument looks like a single numeric RGB or RGBA sequence, which should be avoided as value-mapping will have precedence in case its length matches with *x* & *y*.  Please use the *color* keyword-argument or provide a 2D array with a single row if you intend to specify the same RGB or RGBA value for all points.\n",
      "/var/folders/s6/4vg6xpzn2jqg0d3p8yymkgt40000gn/T/ipykernel_1471/442015021.py:23: UserWarning: You passed a edgecolor/edgecolors ('black') for an unfilled marker ('x').  Matplotlib is ignoring the edgecolor in favor of the facecolor.  This behavior may change in the future.\n",
      "  plt.scatter(x=X[y == cl, 0],\n",
      "*c* argument looks like a single numeric RGB or RGBA sequence, which should be avoided as value-mapping will have precedence in case its length matches with *x* & *y*.  Please use the *color* keyword-argument or provide a 2D array with a single row if you intend to specify the same RGB or RGBA value for all points.\n"
     ]
    },
    {
     "data": {
      "text/plain": [
       "Text(0, 0.5, 'PC 2')"
      ]
     },
     "execution_count": 31,
     "metadata": {},
     "output_type": "execute_result"
    },
    {
     "data": {
      "image/png": "[encoded data removed]",
      "text/plain": [
       "<Figure size 432x288 with 1 Axes>"
      ]
     },
     "metadata": {
      "needs_background": "light"
     },
     "output_type": "display_data"
    }
   ],
   "source": [
    "pca = PCA(n_components=2)\n",
    "from sklearn.linear_model import LogisticRegression\n",
    "lr = LogisticRegression()\n",
    "X_pca = pca.fit_transform(X_std)\n",
    "lr.fit(X_pca, y)\n",
    "\n",
    "plot_decision_regions(X_pca, y, classifier=lr)\n",
    "plt.xlabel('PC 1')\n",
    "plt.ylabel('PC 2')"
   ]
  },
  {
   "cell_type": "code",
   "execution_count": 36,
   "id": "6baa5a75",
   "metadata": {},
   "outputs": [
    {
     "data": {
      "text/plain": [
       "array([0.93229024, 0.06770976])"
      ]
     },
     "execution_count": 36,
     "metadata": {},
     "output_type": "execute_result"
    }
   ],
   "source": [
    "from sklearn.discriminant_analysis import LinearDiscriminantAnalysis as LDA\n",
    "lda = LDA(n_components=None)\n",
    "X_lda = lda.fit_transform(X_std, y)\n",
    "lda.explained_variance_ratio_"
   ]
  },
  {
   "cell_type": "code",
   "execution_count": 38,
   "id": "44941cae",
   "metadata": {},
   "outputs": [
    {
     "data": {
      "text/plain": [
       "LogisticRegression()"
      ]
     },
     "execution_count": 38,
     "metadata": {},
     "output_type": "execute_result"
    }
   ],
   "source": [
    "lda = LDA(n_components=2)\n",
    "X_lda = lda.fit_transform(X_std, y)\n",
    "lr = LogisticRegression()\n",
    "lr.fit(X_lda, y)"
   ]
  },
  {
   "cell_type": "code",
   "execution_count": 39,
   "id": "b5604b6e",
   "metadata": {},
   "outputs": [
    {
     "name": "stderr",
     "output_type": "stream",
     "text": [
      "*c* argument looks like a single numeric RGB or RGBA sequence, which should be avoided as value-mapping will have precedence in case its length matches with *x* & *y*.  Please use the *color* keyword-argument or provide a 2D array with a single row if you intend to specify the same RGB or RGBA value for all points.\n",
      "*c* argument looks like a single numeric RGB or RGBA sequence, which should be avoided as value-mapping will have precedence in case its length matches with *x* & *y*.  Please use the *color* keyword-argument or provide a 2D array with a single row if you intend to specify the same RGB or RGBA value for all points.\n",
      "/var/folders/s6/4vg6xpzn2jqg0d3p8yymkgt40000gn/T/ipykernel_1471/442015021.py:23: UserWarning: You passed a edgecolor/edgecolors ('black') for an unfilled marker ('x').  Matplotlib is ignoring the edgecolor in favor of the facecolor.  This behavior may change in the future.\n",
      "  plt.scatter(x=X[y == cl, 0],\n",
      "*c* argument looks like a single numeric RGB or RGBA sequence, which should be avoided as value-mapping will have precedence in case its length matches with *x* & *y*.  Please use the *color* keyword-argument or provide a 2D array with a single row if you intend to specify the same RGB or RGBA value for all points.\n"
     ]
    },
    {
     "data": {
      "text/plain": [
       "Text(0, 0.5, 'LDA 2')"
      ]
     },
     "execution_count": 39,
     "metadata": {},
     "output_type": "execute_result"
    },
    {
     "data": {
      "image/png": "[encoded data removed]",
      "text/plain": [
       "<Figure size 432x288 with 1 Axes>"
      ]
     },
     "metadata": {
      "needs_background": "light"
     },
     "output_type": "display_data"
    }
   ],
   "source": [
    "plot_decision_regions(X_lda, y, classifier=lr)\n",
    "plt.xlabel('LDA 1')\n",
    "plt.ylabel('LDA 2')"
   ]
  },
  {
   "cell_type": "code",
   "execution_count": null,
   "id": "3424216e",
   "metadata": {},
   "outputs": [],
   "source": []
  }
 ],
 "metadata": {
  "kernelspec": {
   "display_name": "Python 3 (ipykernel)",
   "language": "python",
   "name": "python3"
  },
  "language_info": {
   "codemirror_mode": {
    "name": "ipython",
    "version": 3
   },
   "file_extension": ".py",
   "mimetype": "text/x-python",
   "name": "python",
   "nbconvert_exporter": "python",
   "pygments_lexer": "ipython3",
   "version": "3.9.7"
  }
 },
 "nbformat": 4,
 "nbformat_minor": 5
}
